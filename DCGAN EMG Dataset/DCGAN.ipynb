{
 "cells": [
  {
   "cell_type": "code",
   "execution_count": 20,
   "id": "819c91f3",
   "metadata": {},
   "outputs": [],
   "source": [
    "import tensorflow as tf\n",
    "import numpy as np\n",
    "import pandas as pd\n",
    "import matplotlib.pyplot as plt"
   ]
  },
  {
   "cell_type": "code",
   "execution_count": 21,
   "id": "1ad52dfa",
   "metadata": {},
   "outputs": [],
   "source": [
    "# load the training data\n",
    "train_data = pd.read_csv('train.csv')"
   ]
  },
  {
   "cell_type": "code",
   "execution_count": 22,
   "id": "4c79a017",
   "metadata": {},
   "outputs": [],
   "source": [
    "# define hyperparameters\n",
    "batch_size = 128\n",
    "noise_dim = 100\n",
    "epochs = 50"
   ]
  },
  {
   "cell_type": "code",
   "execution_count": 23,
   "id": "0b8feb67",
   "metadata": {},
   "outputs": [],
   "source": [
    "# create a discriminator model\n",
    "def make_discriminator_model():\n",
    "    model = tf.keras.Sequential()\n",
    "    model.add(tf.keras.layers.Flatten(input_shape=(train_data.shape[1],)))\n",
    "    model.add(tf.keras.layers.Dense(128, activation='relu'))\n",
    "    model.add(tf.keras.layers.Dense(1, activation='sigmoid'))\n",
    "    model.compile(optimizer=tf.keras.optimizers.Adam(),\n",
    "                  loss='binary_crossentropy',\n",
    "                  metrics=['accuracy'])\n",
    "    return model"
   ]
  },
  {
   "cell_type": "code",
   "execution_count": 24,
   "id": "ab5c6ffd",
   "metadata": {},
   "outputs": [],
   "source": [
    "# create a generator model\n",
    "def make_generator_model():\n",
    "    model = tf.keras.Sequential()\n",
    "    model.add(tf.keras.layers.Dense(128, activation='relu', input_dim=noise_dim))\n",
    "    model.add(tf.keras.layers.Dense(train_data.shape[1], activation='sigmoid'))\n",
    "    return model"
   ]
  },
  {
   "cell_type": "code",
   "execution_count": 25,
   "id": "6e7a37ba",
   "metadata": {},
   "outputs": [],
   "source": [
    "# combine both models\n",
    "def make_gan_model(generator, discriminator):\n",
    "    model = tf.keras.Sequential()\n",
    "    model.add(generator)\n",
    "    model.add(discriminator)\n",
    "    model.compile(optimizer=tf.keras.optimizers.Adam(),\n",
    "                  loss='binary_crossentropy',\n",
    "                  metrics=['accuracy'])\n",
    "    return model"
   ]
  },
  {
   "cell_type": "code",
   "execution_count": 26,
   "id": "59afa906",
   "metadata": {},
   "outputs": [],
   "source": [
    "discriminator = make_discriminator_model()\n",
    "generator = make_generator_model()\n",
    "gan_model = make_gan_model(generator, discriminator)"
   ]
  },
  {
   "cell_type": "code",
   "execution_count": 27,
   "id": "59d5411d",
   "metadata": {},
   "outputs": [
    {
     "name": "stdout",
     "output_type": "stream",
     "text": [
      "4/4 [==============================] - 0s 2ms/step\n",
      "Epoch 0: [Discriminator loss: 44.819523, Acc: 0.515625], [Generator loss: 0.865253, Acc: 0.007812]\n",
      "4/4 [==============================] - 0s 3ms/step\n",
      "Epoch 1: [Discriminator loss: 4.368700, Acc: 0.175781], [Generator loss: 0.505936, Acc: 1.000000]\n",
      "4/4 [==============================] - 0s 2ms/step\n",
      "Epoch 2: [Discriminator loss: 0.625100, Acc: 0.500000], [Generator loss: 0.324564, Acc: 1.000000]\n",
      "4/4 [==============================] - 0s 2ms/step\n",
      "Epoch 3: [Discriminator loss: 0.837041, Acc: 0.500000], [Generator loss: 0.210845, Acc: 1.000000]\n",
      "4/4 [==============================] - 0s 1ms/step\n",
      "Epoch 4: [Discriminator loss: 1.031958, Acc: 0.500000], [Generator loss: 0.141543, Acc: 1.000000]\n",
      "4/4 [==============================] - 0s 675us/step\n",
      "Epoch 5: [Discriminator loss: 1.213422, Acc: 0.500000], [Generator loss: 0.100779, Acc: 1.000000]\n",
      "4/4 [==============================] - 0s 3ms/step\n",
      "Epoch 6: [Discriminator loss: 1.382019, Acc: 0.500000], [Generator loss: 0.075242, Acc: 1.000000]\n",
      "4/4 [==============================] - 0s 3ms/step\n",
      "Epoch 7: [Discriminator loss: 1.540646, Acc: 0.500000], [Generator loss: 0.055473, Acc: 1.000000]\n",
      "4/4 [==============================] - 0s 3ms/step\n",
      "Epoch 8: [Discriminator loss: 1.652391, Acc: 0.500000], [Generator loss: 0.041951, Acc: 1.000000]\n",
      "4/4 [==============================] - 0s 2ms/step\n",
      "Epoch 9: [Discriminator loss: 1.780735, Acc: 0.500000], [Generator loss: 0.033861, Acc: 1.000000]\n",
      "4/4 [==============================] - 0s 4ms/step\n",
      "Epoch 10: [Discriminator loss: 1.886654, Acc: 0.500000], [Generator loss: 0.028295, Acc: 1.000000]\n",
      "4/4 [==============================] - 0s 3ms/step\n",
      "Epoch 11: [Discriminator loss: 1.987099, Acc: 0.500000], [Generator loss: 0.023053, Acc: 1.000000]\n",
      "4/4 [==============================] - 0s 3ms/step\n",
      "Epoch 12: [Discriminator loss: 2.053107, Acc: 0.500000], [Generator loss: 0.020276, Acc: 1.000000]\n",
      "4/4 [==============================] - 0s 2ms/step\n",
      "Epoch 13: [Discriminator loss: 2.126671, Acc: 0.500000], [Generator loss: 0.017982, Acc: 1.000000]\n",
      "4/4 [==============================] - 0s 3ms/step\n",
      "Epoch 14: [Discriminator loss: 2.175501, Acc: 0.500000], [Generator loss: 0.016086, Acc: 1.000000]\n",
      "4/4 [==============================] - 0s 2ms/step\n",
      "Epoch 15: [Discriminator loss: 2.229369, Acc: 0.500000], [Generator loss: 0.015136, Acc: 1.000000]\n",
      "4/4 [==============================] - 0s 1ms/step\n",
      "Epoch 16: [Discriminator loss: 2.243225, Acc: 0.500000], [Generator loss: 0.014900, Acc: 1.000000]\n",
      "4/4 [==============================] - 0s 2ms/step\n",
      "Epoch 17: [Discriminator loss: 2.261966, Acc: 0.500000], [Generator loss: 0.014514, Acc: 1.000000]\n",
      "4/4 [==============================] - 0s 2ms/step\n",
      "Epoch 18: [Discriminator loss: 2.274768, Acc: 0.500000], [Generator loss: 0.013528, Acc: 1.000000]\n",
      "4/4 [==============================] - 0s 3ms/step\n",
      "Epoch 19: [Discriminator loss: 2.268186, Acc: 0.500000], [Generator loss: 0.013386, Acc: 1.000000]\n",
      "4/4 [==============================] - 0s 3ms/step\n",
      "Epoch 20: [Discriminator loss: 2.288371, Acc: 0.500000], [Generator loss: 0.014280, Acc: 1.000000]\n",
      "4/4 [==============================] - 0s 2ms/step\n",
      "Epoch 21: [Discriminator loss: 2.306011, Acc: 0.500000], [Generator loss: 0.014062, Acc: 1.000000]\n",
      "4/4 [==============================] - 0s 2ms/step\n",
      "Epoch 22: [Discriminator loss: 2.247313, Acc: 0.500000], [Generator loss: 0.014783, Acc: 1.000000]\n",
      "4/4 [==============================] - 0s 2ms/step\n",
      "Epoch 23: [Discriminator loss: 2.242432, Acc: 0.500000], [Generator loss: 0.015261, Acc: 1.000000]\n",
      "4/4 [==============================] - 0s 3ms/step\n",
      "Epoch 24: [Discriminator loss: 2.236892, Acc: 0.500000], [Generator loss: 0.016494, Acc: 1.000000]\n",
      "4/4 [==============================] - 0s 4ms/step\n",
      "Epoch 25: [Discriminator loss: 2.198505, Acc: 0.500000], [Generator loss: 0.017555, Acc: 1.000000]\n",
      "4/4 [==============================] - 0s 2ms/step\n",
      "Epoch 26: [Discriminator loss: 2.142344, Acc: 0.500000], [Generator loss: 0.018376, Acc: 1.000000]\n",
      "4/4 [==============================] - 0s 3ms/step\n",
      "Epoch 27: [Discriminator loss: 2.105801, Acc: 0.500000], [Generator loss: 0.019502, Acc: 1.000000]\n",
      "4/4 [==============================] - 0s 2ms/step\n",
      "Epoch 28: [Discriminator loss: 2.068236, Acc: 0.500000], [Generator loss: 0.021587, Acc: 1.000000]\n",
      "4/4 [==============================] - 0s 3ms/step\n",
      "Epoch 29: [Discriminator loss: 2.052251, Acc: 0.500000], [Generator loss: 0.023406, Acc: 1.000000]\n",
      "4/4 [==============================] - 0s 1ms/step\n",
      "Epoch 30: [Discriminator loss: 2.045410, Acc: 0.500000], [Generator loss: 0.022642, Acc: 1.000000]\n",
      "4/4 [==============================] - 0s 4ms/step\n",
      "Epoch 31: [Discriminator loss: 2.016635, Acc: 0.500000], [Generator loss: 0.026813, Acc: 1.000000]\n",
      "4/4 [==============================] - 0s 3ms/step\n",
      "Epoch 32: [Discriminator loss: 1.981227, Acc: 0.500000], [Generator loss: 0.028184, Acc: 1.000000]\n",
      "4/4 [==============================] - 0s 2ms/step\n",
      "Epoch 33: [Discriminator loss: 1.967225, Acc: 0.500000], [Generator loss: 0.030745, Acc: 1.000000]\n",
      "4/4 [==============================] - 0s 3ms/step\n",
      "Epoch 34: [Discriminator loss: 1.932015, Acc: 0.500000], [Generator loss: 0.030710, Acc: 1.000000]\n",
      "4/4 [==============================] - 0s 2ms/step\n",
      "Epoch 35: [Discriminator loss: 1.931026, Acc: 0.500000], [Generator loss: 0.031213, Acc: 1.000000]\n",
      "4/4 [==============================] - 0s 2ms/step\n",
      "Epoch 36: [Discriminator loss: 1.981115, Acc: 0.500000], [Generator loss: 0.030686, Acc: 1.000000]\n",
      "4/4 [==============================] - 0s 2ms/step\n",
      "Epoch 37: [Discriminator loss: 1.938983, Acc: 0.500000], [Generator loss: 0.031125, Acc: 1.000000]\n",
      "4/4 [==============================] - 0s 2ms/step\n",
      "Epoch 38: [Discriminator loss: 1.927666, Acc: 0.500000], [Generator loss: 0.032566, Acc: 1.000000]\n",
      "4/4 [==============================] - 0s 2ms/step\n",
      "Epoch 39: [Discriminator loss: 1.944294, Acc: 0.500000], [Generator loss: 0.032714, Acc: 1.000000]\n",
      "4/4 [==============================] - 0s 3ms/step\n",
      "Epoch 40: [Discriminator loss: 1.986223, Acc: 0.500000], [Generator loss: 0.029555, Acc: 1.000000]\n",
      "4/4 [==============================] - 0s 2ms/step\n",
      "Epoch 41: [Discriminator loss: 2.020226, Acc: 0.500000], [Generator loss: 0.027851, Acc: 1.000000]\n",
      "4/4 [==============================] - 0s 2ms/step\n",
      "Epoch 42: [Discriminator loss: 2.001493, Acc: 0.500000], [Generator loss: 0.025856, Acc: 1.000000]\n",
      "4/4 [==============================] - 0s 2ms/step\n",
      "Epoch 43: [Discriminator loss: 1.983191, Acc: 0.500000], [Generator loss: 0.025521, Acc: 1.000000]\n",
      "4/4 [==============================] - 0s 1ms/step\n",
      "Epoch 44: [Discriminator loss: 2.072244, Acc: 0.500000], [Generator loss: 0.022540, Acc: 1.000000]\n",
      "4/4 [==============================] - 0s 2ms/step\n",
      "Epoch 45: [Discriminator loss: 2.102561, Acc: 0.500000], [Generator loss: 0.024181, Acc: 1.000000]\n",
      "4/4 [==============================] - 0s 5ms/step\n",
      "Epoch 46: [Discriminator loss: 2.132815, Acc: 0.500000], [Generator loss: 0.022373, Acc: 1.000000]\n",
      "4/4 [==============================] - 0s 2ms/step\n",
      "Epoch 47: [Discriminator loss: 2.181856, Acc: 0.500000], [Generator loss: 0.021030, Acc: 1.000000]\n",
      "4/4 [==============================] - 0s 5ms/step\n",
      "Epoch 48: [Discriminator loss: 2.228932, Acc: 0.500000], [Generator loss: 0.019011, Acc: 1.000000]\n",
      "4/4 [==============================] - 0s 1ms/step\n",
      "Epoch 49: [Discriminator loss: 2.227509, Acc: 0.500000], [Generator loss: 0.019364, Acc: 1.000000]\n"
     ]
    }
   ],
   "source": [
    "# train the model\n",
    "for epoch in range(epochs):\n",
    "    # generate noise\n",
    "    noise = np.random.normal(0, 1, (batch_size, noise_dim))\n",
    "    # generate fake data\n",
    "    fake_data = generator.predict(noise)\n",
    "    # concatenate real and fake data\n",
    "    real_data = train_data.iloc[np.random.randint(0, train_data.shape[0], batch_size)]\n",
    "    data = np.concatenate((fake_data, real_data), axis=0)\n",
    "    labels = np.concatenate((np.zeros((batch_size, 1)), np.ones((batch_size, 1))), axis=0)\n",
    "    # train the discriminator\n",
    "    d_loss, d_acc = discriminator.train_on_batch(data, labels)\n",
    "    # generate noise\n",
    "    noise = np.random.normal(0, 1, (batch_size, noise_dim))\n",
    "    # generate labels\n",
    "    labels = np.ones((batch_size, 1))\n",
    "    # train the gan\n",
    "    g_loss, g_acc = gan_model.train_on_batch(noise, labels)\n",
    "    \n",
    "    print('Epoch %d: [Discriminator loss: %f, Acc: %f], [Generator loss: %f, Acc: %f]' % (epoch, d_loss, d_acc, g_loss, g_acc))\n",
    "    "
   ]
  },
  {
   "cell_type": "code",
   "execution_count": 28,
   "id": "a6dfd9ca",
   "metadata": {},
   "outputs": [
    {
     "name": "stdout",
     "output_type": "stream",
     "text": [
      "32/32 [==============================] - 0s 1ms/step\n"
     ]
    }
   ],
   "source": [
    "# generate artificial data\n",
    "noise = np.random.normal(0, 1, (1000, noise_dim))\n",
    "fake_data = generator.predict(noise)"
   ]
  },
  {
   "cell_type": "code",
   "execution_count": 29,
   "id": "7b16cbaa",
   "metadata": {},
   "outputs": [],
   "source": [
    "# save data\n",
    "pd.DataFrame(fake_data).to_csv('test.csv', index=False)"
   ]
  }
 ],
 "metadata": {
  "kernelspec": {
   "display_name": "Python 3 (ipykernel)",
   "language": "python",
   "name": "python3"
  },
  "language_info": {
   "codemirror_mode": {
    "name": "ipython",
    "version": 3
   },
   "file_extension": ".py",
   "mimetype": "text/x-python",
   "name": "python",
   "nbconvert_exporter": "python",
   "pygments_lexer": "ipython3",
   "version": "3.10.1"
  }
 },
 "nbformat": 4,
 "nbformat_minor": 5
}
